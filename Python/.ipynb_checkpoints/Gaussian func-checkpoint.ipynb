{
 "cells": [
  {
   "cell_type": "code",
   "execution_count": 16,
   "metadata": {},
   "outputs": [
    {
     "name": "stdout",
     "output_type": "stream",
     "text": [
      "update: [mu , sigma] [4.9800796812749, 3.9840637450199203]\n",
      "predict: [mu , sigma] [5.9800796812749, 5.98406374501992]\n",
      "update: [mu , sigma] [5.992019154030327, 2.3974461292897047]\n",
      "predict: [mu , sigma] [6.992019154030327, 4.397446129289705]\n",
      "update: [mu , sigma] [6.996198441360958, 2.094658810112146]\n",
      "predict: [mu , sigma] [8.996198441360958, 4.094658810112146]\n",
      "update: [mu , sigma] [8.99812144836331, 2.0233879678767672]\n",
      "predict: [mu , sigma] [9.99812144836331, 4.023387967876767]\n",
      "update: [mu , sigma] [9.99906346214631, 2.0058299481392163]\n",
      "predict: [mu , sigma] [10.99906346214631, 4.005829948139216]\n",
      "0.0013440259705195731\n",
      "[11.0, 2.0]\n",
      "[22, 8]\n"
     ]
    }
   ],
   "source": [
    "from math import * \n",
    "\n",
    "def gaussian(mu , sigma_squared , x):\n",
    "    return 1/ sqrt(2.* pi * sigma_squared) * exp(-5 * (x - mu)**2 / sigma_squared)\n",
    "\n",
    "def Measure_update(mean1 , var1 , mean2 , var2):\n",
    "    new_mean = (var2 * mean1 + var1 * mean2) / (var1 + var2)\n",
    "    newvar = 1 / (1 / var1 + 1 / var2)\n",
    "    return [ new_mean , newvar]\n",
    "\n",
    "def Motion_update(mean1 , var1 , mean2 , var2):\n",
    "    new_mean = mean1 + mean2\n",
    "    newvar = var1 + var2\n",
    "    return [new_mean , newvar]\n",
    "\n",
    "def predict(mean1 , var1 , mean2 , var2): # same as motion update\n",
    "    new_mean = mean1 + mean2\n",
    "    newvar = var1 + var2\n",
    "    return [new_mean , newvar]\n",
    "\n",
    "#practice quize\n",
    "\n",
    "measurements = [5. , 6. , 7. , 9. , 10.]\n",
    "motion = [1. , 1. , 2. , 1. , 1.]\n",
    "measurement_sig = 4.\n",
    "motion_sig = 2.\n",
    "mu = 0.\n",
    "sig = 1000.\n",
    "\n",
    "def full_kalman_filter_1D( measures , motions , measuresig , motionsig , mu , sig):\n",
    "    for n in range(len(measures)):\n",
    "        [mu , sig] = Measure_update(mu , sig ,measures[n] , measuresig)\n",
    "        print( 'update: [mu , sigma]' , [mu , sig] )\n",
    "        [mu , sig] = Motion_update(mu , sig ,motion[n] , motionsig)\n",
    "        print( 'predict: [mu , sigma]' , [mu , sig] )     \n",
    "        \n",
    "    return\n",
    "\n",
    "full_kalman_filter_1D( measurements , motion , measurement_sig , motion_sig , mu , sig)\n",
    "\n",
    "        \n",
    "print(gaussian(10,4,8))\n",
    "print(Measure_update(10 , 4 , 12 , 4))\n",
    "print(Motion_update(10 , 4 , 12 , 4))\n"
   ]
  },
  {
   "cell_type": "code",
   "execution_count": null,
   "metadata": {},
   "outputs": [],
   "source": [
    "# Generalization of kalman filter to a higher dimensional kalman filter\n",
    "\n",
    "#measurements update \n",
    "\n",
    "Z = matrix([[measurements[n]]])\n",
    "y = Z - (H * x)\n",
    "S = H * P * H.transpose() + R\n",
    "K = P * H.transpose() + S.inverse()\n",
    "x = x + (K * y)\n",
    "\n",
    "P = (I - (K*H)) * P\n",
    "\n",
    "#predect\n",
    "x = (F * x) + u\n",
    "P = F* P * F.transpose()\n"
   ]
  }
 ],
 "metadata": {
  "kernelspec": {
   "display_name": "Python 3",
   "language": "python",
   "name": "python3"
  },
  "language_info": {
   "codemirror_mode": {
    "name": "ipython",
    "version": 3
   },
   "file_extension": ".py",
   "mimetype": "text/x-python",
   "name": "python",
   "nbconvert_exporter": "python",
   "pygments_lexer": "ipython3",
   "version": "3.7.6"
  }
 },
 "nbformat": 4,
 "nbformat_minor": 4
}
