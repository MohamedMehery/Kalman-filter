{
 "cells": [
  {
   "cell_type": "code",
   "execution_count": 7,
   "metadata": {},
   "outputs": [
    {
     "name": "stdout",
     "output_type": "stream",
     "text": [
      "0.0013440259705195731\n",
      "[11.0, 2.0]\n"
     ]
    }
   ],
   "source": [
    "from math import * \n",
    "\n",
    "def gaussian(mu , sigma_squared , x):\n",
    "    return 1/ sqrt(2.* pi * sigma_squared) * exp(-5 * (x - mu)**2 / sigma_squared)\n",
    "\n",
    "def update(mean1 , var1 , mean2 , var2):\n",
    "    new_mean = (var2 * mean1 + var1 * mean2) / (var1 + var2)\n",
    "    newvar = 1 / (1 / var1 + 1 / var2)\n",
    "    return [ new_mean , newvar]\n",
    "\n",
    "print(gaussian(10,4,8))\n",
    "print(update(10 , 4 , 12 , 4))"
   ]
  },
  {
   "cell_type": "code",
   "execution_count": null,
   "metadata": {},
   "outputs": [],
   "source": []
  }
 ],
 "metadata": {
  "kernelspec": {
   "display_name": "Python 3",
   "language": "python",
   "name": "python3"
  },
  "language_info": {
   "codemirror_mode": {
    "name": "ipython",
    "version": 3
   },
   "file_extension": ".py",
   "mimetype": "text/x-python",
   "name": "python",
   "nbconvert_exporter": "python",
   "pygments_lexer": "ipython3",
   "version": "3.7.6"
  }
 },
 "nbformat": 4,
 "nbformat_minor": 4
}
