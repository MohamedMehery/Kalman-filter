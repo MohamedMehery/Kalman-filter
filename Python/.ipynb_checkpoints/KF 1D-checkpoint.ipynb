{
 "cells": [
  {
   "cell_type": "code",
   "execution_count": 3,
   "metadata": {},
   "outputs": [
    {
     "name": "stdout",
     "output_type": "stream",
     "text": [
      "update: [mu , sigma] [4.9800796812749, 1000.0]\n",
      "predict: [mu , sigma] [5.9800796812749, 1000.0]\n",
      "update: [mu , sigma] [5.999920636180378, 1000.0]\n",
      "predict: [mu , sigma] [6.999920636180378, 1000.0]\n",
      "update: [mu , sigma] [6.999999683809484, 1000.0]\n",
      "predict: [mu , sigma] [8.999999683809484, 1000.0]\n",
      "update: [mu , sigma] [8.999999998740277, 1000.0]\n",
      "predict: [mu , sigma] [9.999999998740277, 1000.0]\n",
      "update: [mu , sigma] [9.999999999994982, 1000.0]\n",
      "predict: [mu , sigma] [10.999999999994982, 1000.0]\n",
      "0.0013440259705195731\n",
      "[11.0, 2.0]\n",
      "[22, 8]\n"
     ]
    }
   ],
   "source": [
    "from math import * \n",
    "\n",
    "def gaussian(mu , sigma_squared , x):\n",
    "    return 1/ sqrt(2.* pi * sigma_squared) * exp(-5 * (x - mu)**2 / sigma_squared)\n",
    "\n",
    "def Measure_update(mean1 , var1 , mean2 , var2):\n",
    "    new_mean = (var2 * mean1 + var1 * mean2) / (var1 + var2)\n",
    "    newvar = 1 / (1 / var1 + 1 / var2)\n",
    "    return [ new_mean , newvar]\n",
    "\n",
    "def Motion_update(mean1 , var1 , mean2 , var2):\n",
    "    new_mean = mean1 + mean2\n",
    "    newvar = var1 + var2\n",
    "    return [new_mean , newvar]\n",
    "\n",
    "def predict(mean1 , var1 , mean2 , var2): # same as motion update\n",
    "    new_mean = mean1 + mean2\n",
    "    newvar = var1 + var2\n",
    "    return [new_mean , newvar]\n",
    "\n",
    "#practice quize\n",
    "\n",
    "measurements = [5. , 6. , 7. , 9. , 10.]\n",
    "motion = [1. , 1. , 2. , 1. , 1.]\n",
    "measurement_sigma = 4.\n",
    "motion_sigma = 2.\n",
    "mu = 0.\n",
    "sigma = 1000.\n",
    "\n",
    "def full_kalman_filter_1D( measures , motions , measuresig , motionsig , mu , sigma):\n",
    "    for n in range(len(measures)):\n",
    "        [mu , sig] = Measure_update(mu , sigma ,measures[n] , measuresig)\n",
    "        print( 'measurement update: [mu , sigma]' , [mu , sigma] )\n",
    "        [mu , sig] = Motion_update(mu , sigma ,motion[n] , motionsig)\n",
    "        print( 'predict: [mu , sigma]' , [mu , sigma] )     \n",
    "        \n",
    "    return\n",
    "\n",
    "full_kalman_filter_1D( measurements , motion , measurement_sigma , motion_sigma , mu , sigma)\n",
    "\n",
    "        \n",
    "print(gaussian(10,4,8))\n",
    "print(Measure_update(10 , 4 , 12 , 4))\n",
    "print(Motion_update(10 , 4 , 12 , 4))\n"
   ]
  },
  {
   "cell_type": "code",
   "execution_count": null,
   "metadata": {},
   "outputs": [],
   "source": [
    "# Generalization of kalman filter to a higher dimensional kalman filter\n",
    "\n",
    "## motion update or predictions variables\n",
    "# x = estimate\n",
    "# p = uncertainty covariance \n",
    "# f = state transition matrix \n",
    "# u = motion vector\n",
    "\n",
    "## measurements update variables\n",
    "# z = measurement\n",
    "# H = measurement function \n",
    "# R = measurement matrix\n",
    "# I is identity matrix\n",
    "\n",
    "#measurements update equations\n",
    "\n",
    "Z = matrix([[measurements[n]]])\n",
    "y = Z - (H * x)\n",
    "S = H * P * H.transpose() + R\n",
    "K = P * H.transpose() + S.inverse()\n",
    "x = x + (K * y)\n",
    "\n",
    "P = (I - (K*H)) * P\n",
    "\n",
    "#predect equations\n",
    "x = (F * x) + u\n",
    "P = F* P * F.transpose()\n"
   ]
  }
 ],
 "metadata": {
  "kernelspec": {
   "display_name": "Python 3",
   "language": "python",
   "name": "python3"
  },
  "language_info": {
   "codemirror_mode": {
    "name": "ipython",
    "version": 3
   },
   "file_extension": ".py",
   "mimetype": "text/x-python",
   "name": "python",
   "nbconvert_exporter": "python",
   "pygments_lexer": "ipython3",
   "version": "3.7.6"
  }
 },
 "nbformat": 4,
 "nbformat_minor": 4
}
